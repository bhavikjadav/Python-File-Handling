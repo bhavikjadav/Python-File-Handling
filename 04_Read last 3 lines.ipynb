{
 "cells": [
  {
   "cell_type": "markdown",
   "metadata": {},
   "source": [
    "# 4. Write a Python program to read last n lines of a file."
   ]
  },
  {
   "cell_type": "code",
   "execution_count": 10,
   "metadata": {},
   "outputs": [
    {
     "name": "stdout",
     "output_type": "stream",
     "text": [
      "This is line 10.\n",
      "\n",
      "This is line 11.\n",
      "\n",
      "This is line 12.\n"
     ]
    }
   ],
   "source": [
    "with open('02_text_file.txt', 'r') as f:\n",
    "    f_content = f.readlines()\n",
    "    print(f_content[-3])\n",
    "    print(f_content[-2])\n",
    "    print(f_content[-1])"
   ]
  }
 ],
 "metadata": {
  "kernelspec": {
   "display_name": "Python 3",
   "language": "python",
   "name": "python3"
  },
  "language_info": {
   "codemirror_mode": {
    "name": "ipython",
    "version": 3
   },
   "file_extension": ".py",
   "mimetype": "text/x-python",
   "name": "python",
   "nbconvert_exporter": "python",
   "pygments_lexer": "ipython3",
   "version": "3.8.5"
  }
 },
 "nbformat": 4,
 "nbformat_minor": 4
}
