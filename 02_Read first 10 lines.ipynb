{
 "cells": [
  {
   "cell_type": "markdown",
   "metadata": {},
   "source": [
    "# 2. Write a Python program to read first 10 lines of a file."
   ]
  },
  {
   "cell_type": "code",
   "execution_count": 13,
   "metadata": {},
   "outputs": [
    {
     "name": "stdout",
     "output_type": "stream",
     "text": [
      "This is line 1.\n",
      "\n",
      "This is line 2.\n",
      "\n",
      "This is line 3.\n",
      "\n",
      "This is line 4.\n",
      "\n",
      "This is line 5.\n",
      "\n",
      "This is line 6.\n",
      "\n",
      "This is line 7.\n",
      "\n",
      "This is line 8.\n",
      "\n",
      "This is line 9.\n",
      "\n",
      "This is line 10.\n",
      "\n"
     ]
    }
   ],
   "source": [
    "with open('02_text_file.txt', 'r') as f:\n",
    "    for line in range(1, 11):\n",
    "        content = f.readline()\n",
    "        print(content)"
   ]
  },
  {
   "cell_type": "code",
   "execution_count": null,
   "metadata": {},
   "outputs": [],
   "source": []
  }
 ],
 "metadata": {
  "kernelspec": {
   "display_name": "Python 3",
   "language": "python",
   "name": "python3"
  },
  "language_info": {
   "codemirror_mode": {
    "name": "ipython",
    "version": 3
   },
   "file_extension": ".py",
   "mimetype": "text/x-python",
   "name": "python",
   "nbconvert_exporter": "python",
   "pygments_lexer": "ipython3",
   "version": "3.8.5"
  }
 },
 "nbformat": 4,
 "nbformat_minor": 4
}
