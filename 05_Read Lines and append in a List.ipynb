{
 "cells": [
  {
   "cell_type": "markdown",
   "metadata": {},
   "source": [
    "# 5. Write a Python program to read a file line by line and store it into a list."
   ]
  },
  {
   "cell_type": "code",
   "execution_count": 11,
   "metadata": {},
   "outputs": [
    {
     "name": "stdout",
     "output_type": "stream",
     "text": [
      "['This is line 1.\\nThis is line 2.\\nThis is line 3.\\nThis is line 4.\\nThis is line 5.\\nThis is line 6.\\nThis is line 7.\\nThis is line 8.\\nThis is line 9.\\nThis is line 10.\\nThis is line 11.\\nThis is line 12.']\n"
     ]
    }
   ],
   "source": [
    "text_list = []\n",
    "\n",
    "with open('02_text_file.txt') as f:\n",
    "    f_contents = f.read()\n",
    "    text_list.append(f_contents)\n",
    "#     print(f_contents)\n",
    "\n",
    "print(text_list)"
   ]
  }
 ],
 "metadata": {
  "kernelspec": {
   "display_name": "Python 3",
   "language": "python",
   "name": "python3"
  },
  "language_info": {
   "codemirror_mode": {
    "name": "ipython",
    "version": 3
   },
   "file_extension": ".py",
   "mimetype": "text/x-python",
   "name": "python",
   "nbconvert_exporter": "python",
   "pygments_lexer": "ipython3",
   "version": "3.8.5"
  }
 },
 "nbformat": 4,
 "nbformat_minor": 4
}
